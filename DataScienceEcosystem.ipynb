{
 "cells": [
  {
   "cell_type": "markdown",
   "id": "d9c1fa37-7bb1-4517-86d5-f5e8b221755c",
   "metadata": {},
   "source": [
    "# Data Science Tools and Ecosystem"
   ]
  },
  {
   "cell_type": "markdown",
   "id": "00ab5021-492c-4abb-8b28-86b26f5db3ff",
   "metadata": {},
   "source": [
    "In this notebook, Data Science Tools and Ecosystem are summarized.\n"
   ]
  },
  {
   "cell_type": "markdown",
   "id": "51aeea44-e4c5-469f-9e59-dfb888d8058e",
   "metadata": {},
   "source": [
    "Some of the commonly used libraries used by Data Scientists include:\n",
    "\n",
    "1. NumPy\n",
    "2. Pandas\n",
    "3. Matplotlib\n",
    "4. Scikit-learn\n",
    "5. TensorFlow\n"
   ]
  },
  {
   "cell_type": "markdown",
   "id": "111770c0-ebff-4abd-a641-ac7338cbce23",
   "metadata": {},
   "source": [
    "| Data Science Tools  |\n",
    "|----------------------|\n",
    "| Jupyter Notebook      |\n",
    "| RStudio               |\n",
    "| Apache Zeppelin       |\n",
    "\n"
   ]
  },
  {
   "cell_type": "markdown",
   "id": "ea9675eb-4e9b-4e65-a433-40a6bca9bb9a",
   "metadata": {},
   "source": [
    "### Below are a few examples of evaluating arithmetic expressions in Python\n",
    "\n",
    "- **Addition**: `3 + 5` results in `8`\n",
    "- **Subtraction**: `10 - 2` results in `8`\n",
    "- **Multiplication**: `4 * 2` results in `8`\n",
    "- **Division**: `16 / 2` results in `8`\n"
   ]
  },
  {
   "cell_type": "code",
   "execution_count": 9,
   "id": "51abca14-89b5-4eb8-b820-aad6828f3ab6",
   "metadata": {},
   "outputs": [
    {
     "data": {
      "text/plain": [
       "17"
      ]
     },
     "execution_count": 9,
     "metadata": {},
     "output_type": "execute_result"
    }
   ],
   "source": [
    "# This is a simple arithmetic expression to multiply then add integers.\n",
    "result = (3 * 4) + 5\n",
    "result\n"
   ]
  },
  {
   "cell_type": "code",
   "execution_count": 10,
   "id": "1afe715c-e086-4430-b7f4-7c8f71af5608",
   "metadata": {},
   "outputs": [
    {
     "data": {
      "text/plain": [
       "3.3333333333333335"
      ]
     },
     "execution_count": 10,
     "metadata": {},
     "output_type": "execute_result"
    }
   ],
   "source": [
    "# This will convert 200 minutes to hours by dividing by 60.\n",
    "hours = 200 / 60\n",
    "hours\n"
   ]
  },
  {
   "cell_type": "markdown",
   "id": "3204df1f-12d4-4ac2-b5a4-d9aff590d88b",
   "metadata": {},
   "source": [
    "**Objectives:**\n",
    "\n",
    "- List popular languages for Data Science.\n",
    "- Describe commonly used libraries in Data Science.\n",
    "- Explain the importance of data visualization tools.\n",
    "- Demonstrate basic arithmetic operations in Python.\n",
    "- Convert time measurements (e.g., minutes to hours).\n"
   ]
  },
  {
   "cell_type": "markdown",
   "id": "56a747f1-78e1-40ad-8415-f2d5ade93657",
   "metadata": {
    "jp-MarkdownHeadingCollapsed": true
   },
   "source": [
    "## Author\n",
    "\n",
    "Pamela\n"
   ]
  }
 ],
 "metadata": {
  "kernelspec": {
   "display_name": "Python 3 (ipykernel)",
   "language": "python",
   "name": "python3"
  },
  "language_info": {
   "codemirror_mode": {
    "name": "ipython",
    "version": 3
   },
   "file_extension": ".py",
   "mimetype": "text/x-python",
   "name": "python",
   "nbconvert_exporter": "python",
   "pygments_lexer": "ipython3",
   "version": "3.11.9"
  }
 },
 "nbformat": 4,
 "nbformat_minor": 5
}
